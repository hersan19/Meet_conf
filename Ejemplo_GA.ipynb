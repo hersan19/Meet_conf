{
  "nbformat": 4,
  "nbformat_minor": 0,
  "metadata": {
    "colab": {
      "name": "Ejemplo_GA.ipynb",
      "provenance": [],
      "toc_visible": true,
      "include_colab_link": true
    },
    "kernelspec": {
      "name": "python3",
      "display_name": "Python 3"
    },
    "language_info": {
      "name": "python"
    }
  },
  "cells": [
    {
      "cell_type": "markdown",
      "metadata": {
        "id": "view-in-github",
        "colab_type": "text"
      },
      "source": [
        "<a href=\"https://colab.research.google.com/github/hersan19/Meet_conf/blob/main/Ejemplo_GA.ipynb\" target=\"_parent\"><img src=\"https://colab.research.google.com/assets/colab-badge.svg\" alt=\"Open In Colab\"/></a>"
      ]
    },
    {
      "cell_type": "markdown",
      "metadata": {
        "id": "1N-RFNjvFZWv"
      },
      "source": [
        "# Ejemplo algoritmo genético para la solución del problema del viajero\n",
        "\n",
        "Se instala la biblioteca DEAP (Distributed Evolutionary Algorithms in Python).\n",
        "\n",
        "Para más información acerca de la biblioteca consultar la documentación en el siguiente link.\n",
        "\n",
        "https://deap.readthedocs.io/en/master/index.html\n"
      ]
    },
    {
      "cell_type": "code",
      "metadata": {
        "colab": {
          "base_uri": "https://localhost:8080/"
        },
        "id": "UlZccedmogW5",
        "outputId": "3241be50-2e21-4839-b2ac-349d406a4cb0"
      },
      "source": [
        "pip install deap"
      ],
      "execution_count": 1,
      "outputs": [
        {
          "output_type": "stream",
          "name": "stdout",
          "text": [
            "Looking in indexes: https://pypi.org/simple, https://us-python.pkg.dev/colab-wheels/public/simple/\n",
            "Collecting deap\n",
            "  Downloading deap-1.3.3-cp37-cp37m-manylinux_2_5_x86_64.manylinux1_x86_64.manylinux_2_17_x86_64.manylinux2014_x86_64.whl (139 kB)\n",
            "\u001b[K     |████████████████████████████████| 139 kB 35.6 MB/s \n",
            "\u001b[?25hRequirement already satisfied: numpy in /usr/local/lib/python3.7/dist-packages (from deap) (1.21.6)\n",
            "Installing collected packages: deap\n",
            "Successfully installed deap-1.3.3\n"
          ]
        }
      ]
    },
    {
      "cell_type": "markdown",
      "metadata": {
        "id": "LMCwTsSZGXlF"
      },
      "source": [
        "Se importan las bibliotecas que se utilizarán para este ejemplo"
      ]
    },
    {
      "cell_type": "code",
      "metadata": {
        "id": "VBeLPF7p1Mqu"
      },
      "source": [
        "import array\n",
        "import random\n",
        "import json\n",
        "import numpy\n",
        "from deap import algorithms,base,creator,tools\n",
        "import pandas as pd\n",
        "import numpy as np"
      ],
      "execution_count": 2,
      "outputs": []
    },
    {
      "cell_type": "markdown",
      "metadata": {
        "id": "cm6I0QFeGnOy"
      },
      "source": [
        "# **Funciones**\n",
        "\n",
        "Para la solución del problema se implementa la función \"Euclidian\", la cual realiza el cálculo de la distancia entre dos puntos.\n",
        "\n",
        "Especificamente, se realiza el cáluclo de la distancia euclidiana entre dos coordenadas geográficas."
      ]
    },
    {
      "cell_type": "code",
      "metadata": {
        "id": "M9ZWXmGmGmkr"
      },
      "source": [
        "import math\n",
        "def Euclidian(X, Y):\n",
        "    return math.sqrt( (float(X[1])-float(Y[1]))**2 + (float(X[0])-float(Y[0]))**2)\n",
        "    \n"
      ],
      "execution_count": 3,
      "outputs": []
    },
    {
      "cell_type": "markdown",
      "metadata": {
        "id": "Nrp_oh2cH331"
      },
      "source": [
        "Se implementa la función \"Distances\".\n",
        "\n",
        "Esta función realiza el cálculo de la distancia total de un ciurcuito al pasar por todas las capitales. \n",
        "Es decir, se obtiene el costo total de cada uno de los circuitos o posibles soluciones. "
      ]
    },
    {
      "cell_type": "code",
      "metadata": {
        "id": "fd5nJOdYH3S9"
      },
      "source": [
        "def Distances(cities):\n",
        "    r= len(cities)\n",
        "    M=np.zeros((r,r))\n",
        "    for i in range(r-1):\n",
        "        for j in range(i+1, r):\n",
        "            M[i][j] = Euclidian(cities[i], cities[j])\n",
        "            M[j][i]= M[i][j]\n",
        "    return M"
      ],
      "execution_count": 4,
      "outputs": []
    },
    {
      "cell_type": "markdown",
      "metadata": {
        "id": "OA7sMcLQHgSa"
      },
      "source": [
        "Se obtienen las coordenadas geográficas de las capitales de cada uno de los estados de la república mexicana.\n",
        "\n",
        "Cada ciudad cuenta con los valores de \"latitud\" y \"longitud\""
      ]
    },
    {
      "cell_type": "code",
      "metadata": {
        "id": "nVXw_0uGHc_I"
      },
      "source": [
        "url=\"https://raw.githubusercontent.com/hersan19/Meet_conf/main/ciudades.csv\"\n",
        "df_ciudades=pd.read_csv(url)\n",
        "datas = list(zip(list(df_ciudades.latitud), list(df_ciudades.longitud)))"
      ],
      "execution_count": 5,
      "outputs": []
    },
    {
      "cell_type": "markdown",
      "metadata": {
        "id": "eq_GlbBj-Uk5"
      },
      "source": [
        "Creación de diccionario para relacionar el indice con el nombre de la ciudad"
      ]
    },
    {
      "cell_type": "code",
      "metadata": {
        "id": "TZzcQ1bSYXQf"
      },
      "source": [
        "diccionario=df_ciudades[\"ciudad\"]\n",
        "diccionario=diccionario.to_dict()\n"
      ],
      "execution_count": 6,
      "outputs": []
    },
    {
      "cell_type": "markdown",
      "metadata": {
        "id": "ERx79GNnIWJg"
      },
      "source": [
        "# Configuración inicial de DEAP\n",
        "\n",
        "Se implementa el algoritmo completo utilizando la biblioteca DEAP, la cual permite utilizar una representación para la solución del problema.\n",
        "\n",
        "La representación es la siguiente:\n",
        "\n",
        "[2, 7, 8, 1, 3, 9, 4, 5, 6, 0]"
      ]
    },
    {
      "cell_type": "code",
      "metadata": {
        "id": "SP1dmVGVskm0"
      },
      "source": [
        "# Asignaciones de las distancias\n",
        "distance_map =Distances(datas)\n",
        "IND_SIZE = len(datas) # Número de ciudades a recorrer\n",
        "\n",
        "# Se crea la clase \"Individual\" usando \"creator\" como herramienta. \n",
        "# La clase \"Individual\" es una arreglo y tiene como atributo \"FitnessMin\" el cual será su aptitud.\n",
        "creator.create(\"FitnessMin\", base.Fitness, weights=(-1.0,)) # El parámetro \"weights=-1.0\" establece que es una minimización \n",
        "creator.create(\"Individual\", array.array, typecode='i', fitness=creator.FitnessMin)\n",
        "# Caja de herramientas para inicializar los individuos\n",
        "\n",
        "# Toolbox.register crea un alias para una función.\n",
        "toolbox = base.Toolbox()\n",
        "\n",
        "# Generador de circuitos.\n",
        "toolbox.register(\"indices\", random.sample, range(IND_SIZE), IND_SIZE)  \n",
        "# El individuo llamado \"individual\", toma las características de aptitud.\n",
        "toolbox.register(\"individual\", tools.initIterate, creator.Individual, toolbox.indices) \n",
        "# La población es el conjunto de \"n\" individuos.\n",
        "toolbox.register(\"population\", tools.initRepeat, list, toolbox.individual)\n",
        "\n",
        "# Se declara la función encargada de evaluar los individuos.\n",
        "def evalTSP(individual):\n",
        "    distance = distance_map[individual[-1]][individual[0]]\n",
        "    for gene1, gene2 in zip(individual[0:-1], individual[1:]):\n",
        "        distance += distance_map[gene1][gene2]\n",
        "    return distance,\n",
        "\n",
        "# Se configuran los parámetros de cruza, mutación, el método de selección y se agrega al toolbox la función encaraga de evaluar a la población.\n",
        "toolbox.register(\"mate\", tools.cxPartialyMatched)\n",
        "toolbox.register(\"mutate\", tools.mutShuffleIndexes, indpb=0.05)\n",
        "toolbox.register(\"select\", tools.selTournament, tournsize=3)\n",
        "toolbox.register(\"evaluate\", evalTSP)\n",
        "\n",
        "\n"
      ],
      "execution_count": 8,
      "outputs": []
    },
    {
      "cell_type": "markdown",
      "metadata": {
        "id": "Jh-kbdxTo1uE"
      },
      "source": [
        "# Algoritmo general\n",
        "Se definen los parámetros para el algoritmo genético, así como se agregan elementos al toolbox para guardar las estadísticas del proceso de búsqueda."
      ]
    },
    {
      "cell_type": "code",
      "metadata": {
        "id": "fLV1MRl3nqDU"
      },
      "source": [
        "def main(): # algoritmo principal\n",
        "    #random.seed(0)\n",
        "    # Parámetros del algoritmo genético\n",
        "    numero_individuos=100\n",
        "    p_cruza=0.8\n",
        "    p_mutacion=0.5\n",
        "    generaciones=100\n",
        "    # Creación de la población\n",
        "    pop = toolbox.population(n=numero_individuos)\n",
        "    # hof (Hall Of Fame) se guarda el mejor individuo que siempre ha existido durante todo el proceso evolutivo\n",
        "    hof = tools.HallOfFame(1)\n",
        "    # Se agrega \"tools.Statistics\" para guardar las estadísticas de las aptitudes del proceso evolutivo\n",
        "    stats = tools.Statistics(lambda ind: ind.fitness.values)\n",
        "    stats.register(\"avg\", numpy.mean)\n",
        "    stats.register(\"std\", numpy.std)\n",
        "    stats.register(\"min\", numpy.min)\n",
        "    stats.register(\"max\", numpy.max)\n",
        "    # Se configura el algoritmo evolutivo\n",
        "    pop,log=algorithms.eaSimple(pop, toolbox, p_cruza, p_mutacion, generaciones, stats=stats, \n",
        "                        halloffame=hof,verbose=True)\n",
        "    \n",
        "    return pop, log,hof"
      ],
      "execution_count": 9,
      "outputs": []
    },
    {
      "cell_type": "code",
      "metadata": {
        "colab": {
          "base_uri": "https://localhost:8080/"
        },
        "id": "qPgIHZcC5hBf",
        "outputId": "2bcd0297-61e1-431e-ea9a-bf7587d12fdf"
      },
      "source": [
        "pop,estadisticas,mejor=main()"
      ],
      "execution_count": 10,
      "outputs": [
        {
          "output_type": "stream",
          "name": "stdout",
          "text": [
            "gen\tnevals\tavg    \tstd    \tmin    \tmax    \n",
            "0  \t100   \t265.596\t16.4596\t215.395\t302.402\n",
            "1  \t90    \t255.553\t18.9707\t197.196\t297.767\n",
            "2  \t93    \t253.576\t19.1846\t217.338\t306.63 \n",
            "3  \t90    \t247.355\t16.3733\t212.788\t295.923\n",
            "4  \t93    \t248.05 \t19.1323\t208.572\t307.328\n",
            "5  \t92    \t245.556\t19.3759\t196.269\t281.715\n",
            "6  \t91    \t242.064\t21.2659\t189.609\t296.696\n",
            "7  \t95    \t240.737\t23.8571\t187.201\t294.515\n",
            "8  \t88    \t231.878\t24.5792\t188.787\t292.549\n",
            "9  \t83    \t227.582\t23.6376\t181.332\t302.68 \n",
            "10 \t94    \t226.921\t22.2986\t184.044\t285.186\n",
            "11 \t92    \t225.992\t24.0342\t184.044\t304.932\n",
            "12 \t93    \t224.599\t23.5669\t176.818\t277.606\n",
            "13 \t85    \t219.351\t21.1772\t184.003\t282.807\n",
            "14 \t92    \t219.737\t20.0429\t175.525\t273.296\n",
            "15 \t97    \t219.983\t23.3542\t174.69 \t284.378\n",
            "16 \t83    \t216.093\t22.0903\t170.758\t271.06 \n",
            "17 \t86    \t214.063\t21.6375\t160.45 \t283.03 \n",
            "18 \t89    \t216.604\t23.745 \t163.17 \t282.395\n",
            "19 \t86    \t214.965\t22.6849\t157.963\t284.402\n",
            "20 \t86    \t211.532\t19.0471\t159.263\t261.18 \n",
            "21 \t91    \t209.041\t23.4786\t168.464\t270.576\n",
            "22 \t90    \t204.771\t22.1004\t165.938\t267.524\n",
            "23 \t88    \t204.782\t22.5851\t165.938\t281.224\n",
            "24 \t92    \t204.447\t22.6102\t163.003\t258.987\n",
            "25 \t94    \t203.057\t23.5778\t162.817\t273.729\n",
            "26 \t91    \t207.408\t23.9828\t156.36 \t270.836\n",
            "27 \t93    \t207.17 \t23.9738\t159.987\t280.243\n",
            "28 \t84    \t204.71 \t20.5239\t159.987\t250.487\n",
            "29 \t92    \t206.579\t23.0972\t155.336\t272.705\n",
            "30 \t87    \t209.943\t24.3537\t155.015\t275.471\n",
            "31 \t87    \t207.698\t23.0733\t152.075\t296.783\n",
            "32 \t91    \t204.148\t21.8281\t168.693\t271.607\n",
            "33 \t86    \t206.465\t22.5227\t164.682\t271.306\n",
            "34 \t82    \t201.569\t19.6798\t164.498\t246.338\n",
            "35 \t88    \t203.082\t20.3091\t164.498\t266.141\n",
            "36 \t94    \t202.526\t20.2886\t164.838\t264.591\n",
            "37 \t85    \t200.624\t19.6692\t167.876\t257.716\n",
            "38 \t92    \t199.749\t22.248 \t152.601\t256.909\n",
            "39 \t92    \t199.247\t19.129 \t164.546\t249.319\n",
            "40 \t93    \t199.764\t22.014 \t166.329\t262.527\n",
            "41 \t93    \t196.764\t18.9057\t166.151\t243.442\n",
            "42 \t84    \t198.142\t20.5451\t159.102\t253.989\n",
            "43 \t88    \t196.558\t21.8323\t157.152\t263.319\n",
            "44 \t89    \t197.811\t18.7215\t165.393\t251.459\n",
            "45 \t90    \t201.381\t23.2689\t155.403\t279.798\n",
            "46 \t83    \t197.429\t19.8366\t155.403\t259.272\n",
            "47 \t86    \t194.075\t16.8432\t163.424\t258.004\n",
            "48 \t89    \t199.05 \t23.1714\t160.902\t263.853\n",
            "49 \t85    \t197.227\t23.8534\t160.902\t272.667\n",
            "50 \t91    \t197.459\t22.2349\t158.144\t282.339\n",
            "51 \t88    \t197.559\t24.9917\t158.438\t263.644\n",
            "52 \t87    \t198.876\t25.093 \t154.703\t266.875\n",
            "53 \t87    \t194.987\t25.7069\t150.778\t261.069\n",
            "54 \t96    \t190.449\t22.478 \t150.778\t247.968\n",
            "55 \t85    \t184.739\t24.4899\t143.981\t248.528\n",
            "56 \t91    \t184.451\t23.4322\t149.133\t254.053\n",
            "57 \t87    \t185.57 \t24.6785\t141.949\t256.039\n",
            "58 \t94    \t181.786\t23.1116\t141.976\t246.6  \n",
            "59 \t87    \t182.129\t26.3299\t141.408\t265.797\n",
            "60 \t90    \t178.715\t22.9351\t137.189\t243.544\n",
            "61 \t82    \t175.569\t21.2684\t133.817\t233.559\n",
            "62 \t89    \t173.952\t25.6586\t133.817\t250.278\n",
            "63 \t87    \t171.235\t25.2725\t135.319\t256.146\n",
            "64 \t93    \t166.602\t22.2969\t125.051\t223.79 \n",
            "65 \t95    \t168.492\t25.6425\t132.053\t240.734\n",
            "66 \t89    \t165.92 \t23.3755\t126.774\t236.615\n",
            "67 \t93    \t162.718\t22.2889\t123.256\t240.678\n",
            "68 \t80    \t166.634\t24.4778\t123.256\t224.949\n",
            "69 \t91    \t164.779\t24.5176\t127.67 \t236.816\n",
            "70 \t87    \t165.443\t24.0843\t129.446\t230.331\n",
            "71 \t86    \t165.351\t20.5961\t131.7  \t236.274\n",
            "72 \t94    \t164.369\t23.6828\t124.017\t246.635\n",
            "73 \t91    \t164.868\t24.3085\t131.641\t258.988\n",
            "74 \t93    \t158.657\t21.7497\t127.724\t226.277\n",
            "75 \t95    \t162.485\t25.0977\t127.724\t260.261\n",
            "76 \t89    \t159.772\t21.4214\t122.993\t220.522\n",
            "77 \t96    \t156.528\t23.6185\t126.487\t252.935\n",
            "78 \t89    \t153.953\t24.096 \t123.713\t232.42 \n",
            "79 \t93    \t153.432\t24.8338\t123.713\t243.751\n",
            "80 \t85    \t149.599\t23.619 \t121.167\t236.452\n",
            "81 \t92    \t150.275\t22.9802\t118.005\t228.918\n",
            "82 \t94    \t147.232\t23.4374\t116.615\t221.337\n",
            "83 \t95    \t145.969\t21.9609\t113.941\t211.626\n",
            "84 \t92    \t146.222\t25.3136\t114.416\t243.327\n",
            "85 \t83    \t141.608\t23.7605\t114.416\t242.903\n",
            "86 \t92    \t139.777\t21.3193\t111.696\t215.191\n",
            "87 \t91    \t141.371\t26.4718\t109.947\t252.927\n",
            "88 \t89    \t140.093\t26.8527\t109.947\t231.139\n",
            "89 \t92    \t137.845\t24.3963\t109.333\t237.809\n",
            "90 \t93    \t135.771\t23.8803\t108.69 \t227.738\n",
            "91 \t88    \t134.924\t27.355 \t107.625\t218.509\n",
            "92 \t91    \t132.689\t25.217 \t107.625\t218.497\n",
            "93 \t91    \t130.002\t24.7299\t102.182\t232.966\n",
            "94 \t91    \t131.075\t26.2134\t102.182\t217.805\n",
            "95 \t95    \t128.526\t20.8994\t102.182\t231.501\n",
            "96 \t95    \t128.289\t24.0048\t103.813\t207.046\n",
            "97 \t93    \t128.638\t25.7278\t104.428\t231.811\n",
            "98 \t88    \t128.868\t27.4829\t103.456\t229.986\n",
            "99 \t91    \t132.55 \t30.5223\t105.537\t233.443\n",
            "100\t91    \t126.393\t23.8791\t102.167\t212.436\n"
          ]
        }
      ]
    },
    {
      "cell_type": "markdown",
      "metadata": {
        "id": "SKF5RUl5cRBd"
      },
      "source": [
        "Se obtiene el mejor individuo que se encontró en el proceso de búsqueda"
      ]
    },
    {
      "cell_type": "code",
      "metadata": {
        "colab": {
          "base_uri": "https://localhost:8080/"
        },
        "id": "OMd8gTfzbZYy",
        "outputId": "02e49634-9def-4e83-97be-a657fd37f3b8"
      },
      "source": [
        "mejor[0]\n"
      ],
      "execution_count": 11,
      "outputs": [
        {
          "output_type": "execute_result",
          "data": {
            "text/plain": [
              "Individual('i', [4, 25, 1, 2, 24, 17, 21, 3, 22, 30, 26, 5, 19, 29, 28, 18, 6, 31, 0, 23, 27, 12, 20, 10, 14, 16, 11, 15, 9, 13, 7, 8])"
            ]
          },
          "metadata": {},
          "execution_count": 11
        }
      ]
    },
    {
      "cell_type": "markdown",
      "metadata": {
        "id": "3UgWCtuldL_I"
      },
      "source": [
        "Se realiza la decodificación del mejor individuo mediante el uso del diccionario previamente definido. \n",
        "\n",
        "De esta manera se obtienen los nombres de cada una de las capitales del mejor recorrido encontrado."
      ]
    },
    {
      "cell_type": "code",
      "metadata": {
        "id": "z5v8610mJVzG",
        "colab": {
          "base_uri": "https://localhost:8080/"
        },
        "outputId": "2173788d-e336-4360-eba2-eb149dbc7b36"
      },
      "source": [
        "recorrido_nombres=[]\n",
        "aux=0\n",
        "for ciudad in mejor[0]:  \n",
        "  recorrido_nombres.append(diccionario.get(ciudad,ciudad))\n",
        "recorrido_nombres.append(diccionario.get(mejor[0][0]))\n",
        "recorrido_nombres"
      ],
      "execution_count": 12,
      "outputs": [
        {
          "output_type": "execute_result",
          "data": {
            "text/plain": [
              "['chihuahua',\n",
              " 'hermosillo',\n",
              " 'mexicalli',\n",
              " 'lapaz',\n",
              " 'culiacan',\n",
              " 'tepic',\n",
              " 'queretaro',\n",
              " 'campeche',\n",
              " 'chetumal',\n",
              " 'merida',\n",
              " 'villahermosa',\n",
              " 'tuxtlaGtz',\n",
              " 'oaxaca',\n",
              " 'xalapa',\n",
              " 'tlaxcala',\n",
              " 'monterrey',\n",
              " 'Saltillo',\n",
              " 'zacatecas',\n",
              " 'aguascalientes',\n",
              " 'Sanluis',\n",
              " 'cuidadvictoria',\n",
              " 'pachuca',\n",
              " 'puebla',\n",
              " 'chilpancingo',\n",
              " 'toluca',\n",
              " 'cuernavaca',\n",
              " 'cdmx',\n",
              " 'morelia',\n",
              " 'guanajuato',\n",
              " 'guadalajara',\n",
              " 'colima',\n",
              " 'victoriaDurango',\n",
              " 'chihuahua']"
            ]
          },
          "metadata": {},
          "execution_count": 12
        }
      ]
    },
    {
      "cell_type": "markdown",
      "metadata": {
        "id": "m_uEMZCjJVoo"
      },
      "source": [
        "En este apartado se decodifica el mejor individuo en términos de las coordenadas geograficas de cada una de las capitales, con el fin de obtener colocarlas en el mapa."
      ]
    },
    {
      "cell_type": "code",
      "metadata": {
        "id": "L7YdYLeT8IMg"
      },
      "source": [
        "recorrido=[]\n",
        "for i in range(32):\n",
        "  latitud=df_ciudades.iloc[mejor[0][i]][\"latitud\"]\n",
        "  longitud=df_ciudades.iloc[mejor[0][i]][\"longitud\"]\n",
        "  recorrido.append((latitud,longitud))"
      ],
      "execution_count": 13,
      "outputs": []
    },
    {
      "cell_type": "code",
      "metadata": {
        "colab": {
          "base_uri": "https://localhost:8080/",
          "height": 1000
        },
        "id": "EhvYqF-s6PRA",
        "outputId": "0b50d8a2-75ed-434b-9bc3-bd760ad549bb"
      },
      "source": [
        "import plotly.express as px\n",
        "import plotly.graph_objects as go\n",
        "\n",
        "fig=go.Figure()\n",
        "# Se agregan los puntos que representan la ubicación de las capitales\n",
        "fig.add_trace(go.Scattergeo(\n",
        "    #locations = [\"Mexico\"],\n",
        "    #locationmode = 'country names',\n",
        "    lon=df_ciudades[\"longitud\"],\n",
        "    lat=df_ciudades[\"latitud\"],\n",
        "    hoverinfo=\"text\",\n",
        "    hovertext=df_ciudades[\"ciudad\"],\n",
        "    #text=df_ciudades[\"ciudad\"],\n",
        "    mode=\"markers\",\n",
        "    marker = dict(size=2,color='rgb(255,0,0)',line=dict(width=3,color='rgba(68,68,0)'))))\n",
        "\n",
        "# Ciclo para realizar la unión de los puntos de acuerdo con el mejor individuo \n",
        "for i in range(31):\n",
        "  fig.add_trace(go.Scattergeo(\n",
        "      lat=[recorrido[i][0],recorrido[i+1][0]],\n",
        "      lon=[recorrido[i][1],recorrido[i+1][1]],\n",
        "      mode=\"lines\",\n",
        "      line=dict(width=1,color=\"blue\"),\n",
        "  ))\n",
        "fig.add_trace(go.Scattergeo(\n",
        "    lat=[recorrido[-1][0],recorrido[0][0]],\n",
        "    lon=[recorrido[-1][1],recorrido[0][1]],\n",
        "    mode=\"lines\",\n",
        "    line=dict(width=1,color=\"blue\"),\n",
        "  ))\n",
        "\n",
        "fig.update_layout(title_text=\"Mejor recorrido\",showlegend=True,\n",
        "                  geo =dict(\n",
        "                      #showcountries=True,\n",
        "                      scope=\"north america\",\n",
        "                      projection_type ='conic equal area',                      \n",
        "                      showland = True,\n",
        "                      #landcolor='rgb(243,243,243)',\n",
        "                      #countrycolor='rgb(204,204,204)',\n",
        "                  ), width=1800, height=1400)\n",
        "fig.show()"
      ],
      "execution_count": 14,
      "outputs": [
        {
          "output_type": "display_data",
          "data": {
            "text/html": [
              "<html>\n",
              "<head><meta charset=\"utf-8\" /></head>\n",
              "<body>\n",
              "    <div>            <script src=\"https://cdnjs.cloudflare.com/ajax/libs/mathjax/2.7.5/MathJax.js?config=TeX-AMS-MML_SVG\"></script><script type=\"text/javascript\">if (window.MathJax) {MathJax.Hub.Config({SVG: {font: \"STIX-Web\"}});}</script>                <script type=\"text/javascript\">window.PlotlyConfig = {MathJaxConfig: 'local'};</script>\n",
              "        <script src=\"https://cdn.plot.ly/plotly-2.8.3.min.js\"></script>                <div id=\"eda321f9-89af-4c93-882d-abee193c4719\" class=\"plotly-graph-div\" style=\"height:1400px; width:1800px;\"></div>            <script type=\"text/javascript\">                                    window.PLOTLYENV=window.PLOTLYENV || {};                                    if (document.getElementById(\"eda321f9-89af-4c93-882d-abee193c4719\")) {                    Plotly.newPlot(                        \"eda321f9-89af-4c93-882d-abee193c4719\",                        [{\"hoverinfo\":\"text\",\"hovertext\":[\"aguascalientes\",\"mexicalli\",\"lapaz\",\"campeche\",\"chihuahua\",\"tuxtlaGtz\",\"Saltillo\",\"colima\",\"victoriaDurango\",\"guanajuato\",\"chilpancingo\",\"cdmx\",\"pachuca\",\"guadalajara\",\"toluca\",\"morelia\",\"cuernavaca\",\"tepic\",\"monterrey\",\"oaxaca\",\"puebla\",\"queretaro\",\"chetumal\",\"Sanluis\",\"culiacan\",\"hermosillo\",\"villahermosa\",\"cuidadvictoria\",\"tlaxcala\",\"xalapa\",\"merida\",\"zacatecas\"],\"lat\":[21.8823395,32.6278114,24.14437,19.8438606,28.6352806,16.7597294,25.4232101,19.24997,24.0203209,21.01858,17.5506,19.4284706,20.11697,20.66682,19.28786,19.70078,18.9261,21.50951,25.67507,17.06542,19.04334,20.5880604,18.51413,22.14982,24.79032,29.1026,17.98689,23.74174,19.31905,19.53124,20.97537,22.76843],\"lon\":[-102.2825928,-115.4544601,-110.3005,-90.5255432,-106.0888901,-93.1130829,-101.0053024,-103.72714,-104.6575623,-101.2591,-99.50578,-99.1276627,-98.73329,-103.39182,-99.65324,-101.18443,-99.23075,-104.89569,-100.31847,-96.72365,-98.20193,-100.3880615,-88.30381,-100.97916,-107.38782,-110.97732,-92.93028,-99.14599,-98.19982,-96.91589,-89.61696,-102.58141],\"marker\":{\"color\":\"rgb(255,0,0)\",\"line\":{\"color\":\"rgba(68,68,0)\",\"width\":3},\"size\":2},\"mode\":\"markers\",\"type\":\"scattergeo\"},{\"lat\":[28.6352806,29.1026],\"line\":{\"color\":\"blue\",\"width\":1},\"lon\":[-106.0888901,-110.97732],\"mode\":\"lines\",\"type\":\"scattergeo\"},{\"lat\":[29.1026,32.6278114],\"line\":{\"color\":\"blue\",\"width\":1},\"lon\":[-110.97732,-115.4544601],\"mode\":\"lines\",\"type\":\"scattergeo\"},{\"lat\":[32.6278114,24.14437],\"line\":{\"color\":\"blue\",\"width\":1},\"lon\":[-115.4544601,-110.3005],\"mode\":\"lines\",\"type\":\"scattergeo\"},{\"lat\":[24.14437,24.79032],\"line\":{\"color\":\"blue\",\"width\":1},\"lon\":[-110.3005,-107.38782],\"mode\":\"lines\",\"type\":\"scattergeo\"},{\"lat\":[24.79032,21.50951],\"line\":{\"color\":\"blue\",\"width\":1},\"lon\":[-107.38782,-104.89569],\"mode\":\"lines\",\"type\":\"scattergeo\"},{\"lat\":[21.50951,20.5880604],\"line\":{\"color\":\"blue\",\"width\":1},\"lon\":[-104.89569,-100.3880615],\"mode\":\"lines\",\"type\":\"scattergeo\"},{\"lat\":[20.5880604,19.8438606],\"line\":{\"color\":\"blue\",\"width\":1},\"lon\":[-100.3880615,-90.5255432],\"mode\":\"lines\",\"type\":\"scattergeo\"},{\"lat\":[19.8438606,18.51413],\"line\":{\"color\":\"blue\",\"width\":1},\"lon\":[-90.5255432,-88.30381],\"mode\":\"lines\",\"type\":\"scattergeo\"},{\"lat\":[18.51413,20.97537],\"line\":{\"color\":\"blue\",\"width\":1},\"lon\":[-88.30381,-89.61696],\"mode\":\"lines\",\"type\":\"scattergeo\"},{\"lat\":[20.97537,17.98689],\"line\":{\"color\":\"blue\",\"width\":1},\"lon\":[-89.61696,-92.93028],\"mode\":\"lines\",\"type\":\"scattergeo\"},{\"lat\":[17.98689,16.7597294],\"line\":{\"color\":\"blue\",\"width\":1},\"lon\":[-92.93028,-93.1130829],\"mode\":\"lines\",\"type\":\"scattergeo\"},{\"lat\":[16.7597294,17.06542],\"line\":{\"color\":\"blue\",\"width\":1},\"lon\":[-93.1130829,-96.72365],\"mode\":\"lines\",\"type\":\"scattergeo\"},{\"lat\":[17.06542,19.53124],\"line\":{\"color\":\"blue\",\"width\":1},\"lon\":[-96.72365,-96.91589],\"mode\":\"lines\",\"type\":\"scattergeo\"},{\"lat\":[19.53124,19.31905],\"line\":{\"color\":\"blue\",\"width\":1},\"lon\":[-96.91589,-98.19982],\"mode\":\"lines\",\"type\":\"scattergeo\"},{\"lat\":[19.31905,25.67507],\"line\":{\"color\":\"blue\",\"width\":1},\"lon\":[-98.19982,-100.31847],\"mode\":\"lines\",\"type\":\"scattergeo\"},{\"lat\":[25.67507,25.4232101],\"line\":{\"color\":\"blue\",\"width\":1},\"lon\":[-100.31847,-101.0053024],\"mode\":\"lines\",\"type\":\"scattergeo\"},{\"lat\":[25.4232101,22.76843],\"line\":{\"color\":\"blue\",\"width\":1},\"lon\":[-101.0053024,-102.58141],\"mode\":\"lines\",\"type\":\"scattergeo\"},{\"lat\":[22.76843,21.8823395],\"line\":{\"color\":\"blue\",\"width\":1},\"lon\":[-102.58141,-102.2825928],\"mode\":\"lines\",\"type\":\"scattergeo\"},{\"lat\":[21.8823395,22.14982],\"line\":{\"color\":\"blue\",\"width\":1},\"lon\":[-102.2825928,-100.97916],\"mode\":\"lines\",\"type\":\"scattergeo\"},{\"lat\":[22.14982,23.74174],\"line\":{\"color\":\"blue\",\"width\":1},\"lon\":[-100.97916,-99.14599],\"mode\":\"lines\",\"type\":\"scattergeo\"},{\"lat\":[23.74174,20.11697],\"line\":{\"color\":\"blue\",\"width\":1},\"lon\":[-99.14599,-98.73329],\"mode\":\"lines\",\"type\":\"scattergeo\"},{\"lat\":[20.11697,19.04334],\"line\":{\"color\":\"blue\",\"width\":1},\"lon\":[-98.73329,-98.20193],\"mode\":\"lines\",\"type\":\"scattergeo\"},{\"lat\":[19.04334,17.5506],\"line\":{\"color\":\"blue\",\"width\":1},\"lon\":[-98.20193,-99.50578],\"mode\":\"lines\",\"type\":\"scattergeo\"},{\"lat\":[17.5506,19.28786],\"line\":{\"color\":\"blue\",\"width\":1},\"lon\":[-99.50578,-99.65324],\"mode\":\"lines\",\"type\":\"scattergeo\"},{\"lat\":[19.28786,18.9261],\"line\":{\"color\":\"blue\",\"width\":1},\"lon\":[-99.65324,-99.23075],\"mode\":\"lines\",\"type\":\"scattergeo\"},{\"lat\":[18.9261,19.4284706],\"line\":{\"color\":\"blue\",\"width\":1},\"lon\":[-99.23075,-99.1276627],\"mode\":\"lines\",\"type\":\"scattergeo\"},{\"lat\":[19.4284706,19.70078],\"line\":{\"color\":\"blue\",\"width\":1},\"lon\":[-99.1276627,-101.18443],\"mode\":\"lines\",\"type\":\"scattergeo\"},{\"lat\":[19.70078,21.01858],\"line\":{\"color\":\"blue\",\"width\":1},\"lon\":[-101.18443,-101.2591],\"mode\":\"lines\",\"type\":\"scattergeo\"},{\"lat\":[21.01858,20.66682],\"line\":{\"color\":\"blue\",\"width\":1},\"lon\":[-101.2591,-103.39182],\"mode\":\"lines\",\"type\":\"scattergeo\"},{\"lat\":[20.66682,19.24997],\"line\":{\"color\":\"blue\",\"width\":1},\"lon\":[-103.39182,-103.72714],\"mode\":\"lines\",\"type\":\"scattergeo\"},{\"lat\":[19.24997,24.0203209],\"line\":{\"color\":\"blue\",\"width\":1},\"lon\":[-103.72714,-104.6575623],\"mode\":\"lines\",\"type\":\"scattergeo\"},{\"lat\":[24.0203209,28.6352806],\"line\":{\"color\":\"blue\",\"width\":1},\"lon\":[-104.6575623,-106.0888901],\"mode\":\"lines\",\"type\":\"scattergeo\"}],                        {\"template\":{\"data\":{\"bar\":[{\"error_x\":{\"color\":\"#2a3f5f\"},\"error_y\":{\"color\":\"#2a3f5f\"},\"marker\":{\"line\":{\"color\":\"#E5ECF6\",\"width\":0.5},\"pattern\":{\"fillmode\":\"overlay\",\"size\":10,\"solidity\":0.2}},\"type\":\"bar\"}],\"barpolar\":[{\"marker\":{\"line\":{\"color\":\"#E5ECF6\",\"width\":0.5},\"pattern\":{\"fillmode\":\"overlay\",\"size\":10,\"solidity\":0.2}},\"type\":\"barpolar\"}],\"carpet\":[{\"aaxis\":{\"endlinecolor\":\"#2a3f5f\",\"gridcolor\":\"white\",\"linecolor\":\"white\",\"minorgridcolor\":\"white\",\"startlinecolor\":\"#2a3f5f\"},\"baxis\":{\"endlinecolor\":\"#2a3f5f\",\"gridcolor\":\"white\",\"linecolor\":\"white\",\"minorgridcolor\":\"white\",\"startlinecolor\":\"#2a3f5f\"},\"type\":\"carpet\"}],\"choropleth\":[{\"colorbar\":{\"outlinewidth\":0,\"ticks\":\"\"},\"type\":\"choropleth\"}],\"contour\":[{\"colorbar\":{\"outlinewidth\":0,\"ticks\":\"\"},\"colorscale\":[[0.0,\"#0d0887\"],[0.1111111111111111,\"#46039f\"],[0.2222222222222222,\"#7201a8\"],[0.3333333333333333,\"#9c179e\"],[0.4444444444444444,\"#bd3786\"],[0.5555555555555556,\"#d8576b\"],[0.6666666666666666,\"#ed7953\"],[0.7777777777777778,\"#fb9f3a\"],[0.8888888888888888,\"#fdca26\"],[1.0,\"#f0f921\"]],\"type\":\"contour\"}],\"contourcarpet\":[{\"colorbar\":{\"outlinewidth\":0,\"ticks\":\"\"},\"type\":\"contourcarpet\"}],\"heatmap\":[{\"colorbar\":{\"outlinewidth\":0,\"ticks\":\"\"},\"colorscale\":[[0.0,\"#0d0887\"],[0.1111111111111111,\"#46039f\"],[0.2222222222222222,\"#7201a8\"],[0.3333333333333333,\"#9c179e\"],[0.4444444444444444,\"#bd3786\"],[0.5555555555555556,\"#d8576b\"],[0.6666666666666666,\"#ed7953\"],[0.7777777777777778,\"#fb9f3a\"],[0.8888888888888888,\"#fdca26\"],[1.0,\"#f0f921\"]],\"type\":\"heatmap\"}],\"heatmapgl\":[{\"colorbar\":{\"outlinewidth\":0,\"ticks\":\"\"},\"colorscale\":[[0.0,\"#0d0887\"],[0.1111111111111111,\"#46039f\"],[0.2222222222222222,\"#7201a8\"],[0.3333333333333333,\"#9c179e\"],[0.4444444444444444,\"#bd3786\"],[0.5555555555555556,\"#d8576b\"],[0.6666666666666666,\"#ed7953\"],[0.7777777777777778,\"#fb9f3a\"],[0.8888888888888888,\"#fdca26\"],[1.0,\"#f0f921\"]],\"type\":\"heatmapgl\"}],\"histogram\":[{\"marker\":{\"pattern\":{\"fillmode\":\"overlay\",\"size\":10,\"solidity\":0.2}},\"type\":\"histogram\"}],\"histogram2d\":[{\"colorbar\":{\"outlinewidth\":0,\"ticks\":\"\"},\"colorscale\":[[0.0,\"#0d0887\"],[0.1111111111111111,\"#46039f\"],[0.2222222222222222,\"#7201a8\"],[0.3333333333333333,\"#9c179e\"],[0.4444444444444444,\"#bd3786\"],[0.5555555555555556,\"#d8576b\"],[0.6666666666666666,\"#ed7953\"],[0.7777777777777778,\"#fb9f3a\"],[0.8888888888888888,\"#fdca26\"],[1.0,\"#f0f921\"]],\"type\":\"histogram2d\"}],\"histogram2dcontour\":[{\"colorbar\":{\"outlinewidth\":0,\"ticks\":\"\"},\"colorscale\":[[0.0,\"#0d0887\"],[0.1111111111111111,\"#46039f\"],[0.2222222222222222,\"#7201a8\"],[0.3333333333333333,\"#9c179e\"],[0.4444444444444444,\"#bd3786\"],[0.5555555555555556,\"#d8576b\"],[0.6666666666666666,\"#ed7953\"],[0.7777777777777778,\"#fb9f3a\"],[0.8888888888888888,\"#fdca26\"],[1.0,\"#f0f921\"]],\"type\":\"histogram2dcontour\"}],\"mesh3d\":[{\"colorbar\":{\"outlinewidth\":0,\"ticks\":\"\"},\"type\":\"mesh3d\"}],\"parcoords\":[{\"line\":{\"colorbar\":{\"outlinewidth\":0,\"ticks\":\"\"}},\"type\":\"parcoords\"}],\"pie\":[{\"automargin\":true,\"type\":\"pie\"}],\"scatter\":[{\"marker\":{\"colorbar\":{\"outlinewidth\":0,\"ticks\":\"\"}},\"type\":\"scatter\"}],\"scatter3d\":[{\"line\":{\"colorbar\":{\"outlinewidth\":0,\"ticks\":\"\"}},\"marker\":{\"colorbar\":{\"outlinewidth\":0,\"ticks\":\"\"}},\"type\":\"scatter3d\"}],\"scattercarpet\":[{\"marker\":{\"colorbar\":{\"outlinewidth\":0,\"ticks\":\"\"}},\"type\":\"scattercarpet\"}],\"scattergeo\":[{\"marker\":{\"colorbar\":{\"outlinewidth\":0,\"ticks\":\"\"}},\"type\":\"scattergeo\"}],\"scattergl\":[{\"marker\":{\"colorbar\":{\"outlinewidth\":0,\"ticks\":\"\"}},\"type\":\"scattergl\"}],\"scattermapbox\":[{\"marker\":{\"colorbar\":{\"outlinewidth\":0,\"ticks\":\"\"}},\"type\":\"scattermapbox\"}],\"scatterpolar\":[{\"marker\":{\"colorbar\":{\"outlinewidth\":0,\"ticks\":\"\"}},\"type\":\"scatterpolar\"}],\"scatterpolargl\":[{\"marker\":{\"colorbar\":{\"outlinewidth\":0,\"ticks\":\"\"}},\"type\":\"scatterpolargl\"}],\"scatterternary\":[{\"marker\":{\"colorbar\":{\"outlinewidth\":0,\"ticks\":\"\"}},\"type\":\"scatterternary\"}],\"surface\":[{\"colorbar\":{\"outlinewidth\":0,\"ticks\":\"\"},\"colorscale\":[[0.0,\"#0d0887\"],[0.1111111111111111,\"#46039f\"],[0.2222222222222222,\"#7201a8\"],[0.3333333333333333,\"#9c179e\"],[0.4444444444444444,\"#bd3786\"],[0.5555555555555556,\"#d8576b\"],[0.6666666666666666,\"#ed7953\"],[0.7777777777777778,\"#fb9f3a\"],[0.8888888888888888,\"#fdca26\"],[1.0,\"#f0f921\"]],\"type\":\"surface\"}],\"table\":[{\"cells\":{\"fill\":{\"color\":\"#EBF0F8\"},\"line\":{\"color\":\"white\"}},\"header\":{\"fill\":{\"color\":\"#C8D4E3\"},\"line\":{\"color\":\"white\"}},\"type\":\"table\"}]},\"layout\":{\"annotationdefaults\":{\"arrowcolor\":\"#2a3f5f\",\"arrowhead\":0,\"arrowwidth\":1},\"autotypenumbers\":\"strict\",\"coloraxis\":{\"colorbar\":{\"outlinewidth\":0,\"ticks\":\"\"}},\"colorscale\":{\"diverging\":[[0,\"#8e0152\"],[0.1,\"#c51b7d\"],[0.2,\"#de77ae\"],[0.3,\"#f1b6da\"],[0.4,\"#fde0ef\"],[0.5,\"#f7f7f7\"],[0.6,\"#e6f5d0\"],[0.7,\"#b8e186\"],[0.8,\"#7fbc41\"],[0.9,\"#4d9221\"],[1,\"#276419\"]],\"sequential\":[[0.0,\"#0d0887\"],[0.1111111111111111,\"#46039f\"],[0.2222222222222222,\"#7201a8\"],[0.3333333333333333,\"#9c179e\"],[0.4444444444444444,\"#bd3786\"],[0.5555555555555556,\"#d8576b\"],[0.6666666666666666,\"#ed7953\"],[0.7777777777777778,\"#fb9f3a\"],[0.8888888888888888,\"#fdca26\"],[1.0,\"#f0f921\"]],\"sequentialminus\":[[0.0,\"#0d0887\"],[0.1111111111111111,\"#46039f\"],[0.2222222222222222,\"#7201a8\"],[0.3333333333333333,\"#9c179e\"],[0.4444444444444444,\"#bd3786\"],[0.5555555555555556,\"#d8576b\"],[0.6666666666666666,\"#ed7953\"],[0.7777777777777778,\"#fb9f3a\"],[0.8888888888888888,\"#fdca26\"],[1.0,\"#f0f921\"]]},\"colorway\":[\"#636efa\",\"#EF553B\",\"#00cc96\",\"#ab63fa\",\"#FFA15A\",\"#19d3f3\",\"#FF6692\",\"#B6E880\",\"#FF97FF\",\"#FECB52\"],\"font\":{\"color\":\"#2a3f5f\"},\"geo\":{\"bgcolor\":\"white\",\"lakecolor\":\"white\",\"landcolor\":\"#E5ECF6\",\"showlakes\":true,\"showland\":true,\"subunitcolor\":\"white\"},\"hoverlabel\":{\"align\":\"left\"},\"hovermode\":\"closest\",\"mapbox\":{\"style\":\"light\"},\"paper_bgcolor\":\"white\",\"plot_bgcolor\":\"#E5ECF6\",\"polar\":{\"angularaxis\":{\"gridcolor\":\"white\",\"linecolor\":\"white\",\"ticks\":\"\"},\"bgcolor\":\"#E5ECF6\",\"radialaxis\":{\"gridcolor\":\"white\",\"linecolor\":\"white\",\"ticks\":\"\"}},\"scene\":{\"xaxis\":{\"backgroundcolor\":\"#E5ECF6\",\"gridcolor\":\"white\",\"gridwidth\":2,\"linecolor\":\"white\",\"showbackground\":true,\"ticks\":\"\",\"zerolinecolor\":\"white\"},\"yaxis\":{\"backgroundcolor\":\"#E5ECF6\",\"gridcolor\":\"white\",\"gridwidth\":2,\"linecolor\":\"white\",\"showbackground\":true,\"ticks\":\"\",\"zerolinecolor\":\"white\"},\"zaxis\":{\"backgroundcolor\":\"#E5ECF6\",\"gridcolor\":\"white\",\"gridwidth\":2,\"linecolor\":\"white\",\"showbackground\":true,\"ticks\":\"\",\"zerolinecolor\":\"white\"}},\"shapedefaults\":{\"line\":{\"color\":\"#2a3f5f\"}},\"ternary\":{\"aaxis\":{\"gridcolor\":\"white\",\"linecolor\":\"white\",\"ticks\":\"\"},\"baxis\":{\"gridcolor\":\"white\",\"linecolor\":\"white\",\"ticks\":\"\"},\"bgcolor\":\"#E5ECF6\",\"caxis\":{\"gridcolor\":\"white\",\"linecolor\":\"white\",\"ticks\":\"\"}},\"title\":{\"x\":0.05},\"xaxis\":{\"automargin\":true,\"gridcolor\":\"white\",\"linecolor\":\"white\",\"ticks\":\"\",\"title\":{\"standoff\":15},\"zerolinecolor\":\"white\",\"zerolinewidth\":2},\"yaxis\":{\"automargin\":true,\"gridcolor\":\"white\",\"linecolor\":\"white\",\"ticks\":\"\",\"title\":{\"standoff\":15},\"zerolinecolor\":\"white\",\"zerolinewidth\":2}}},\"title\":{\"text\":\"Mejor recorrido\"},\"geo\":{\"projection\":{\"type\":\"conic equal area\"},\"scope\":\"north america\",\"showland\":true},\"showlegend\":true,\"width\":1800,\"height\":1400},                        {\"responsive\": true}                    ).then(function(){\n",
              "                            \n",
              "var gd = document.getElementById('eda321f9-89af-4c93-882d-abee193c4719');\n",
              "var x = new MutationObserver(function (mutations, observer) {{\n",
              "        var display = window.getComputedStyle(gd).display;\n",
              "        if (!display || display === 'none') {{\n",
              "            console.log([gd, 'removed!']);\n",
              "            Plotly.purge(gd);\n",
              "            observer.disconnect();\n",
              "        }}\n",
              "}});\n",
              "\n",
              "// Listen for the removal of the full notebook cells\n",
              "var notebookContainer = gd.closest('#notebook-container');\n",
              "if (notebookContainer) {{\n",
              "    x.observe(notebookContainer, {childList: true});\n",
              "}}\n",
              "\n",
              "// Listen for the clearing of the current output cell\n",
              "var outputEl = gd.closest('.output');\n",
              "if (outputEl) {{\n",
              "    x.observe(outputEl, {childList: true});\n",
              "}}\n",
              "\n",
              "                        })                };                            </script>        </div>\n",
              "</body>\n",
              "</html>"
            ]
          },
          "metadata": {}
        }
      ]
    },
    {
      "cell_type": "markdown",
      "metadata": {
        "id": "YYMGAr2Red1x"
      },
      "source": [
        "Se imprimen los resultados obtenidos junto con la gráfica del proceso evolutivo.\n",
        "\n",
        "En la gráfica se muestran el promedio de aptitud de toda la población (línea azul), la máxima aptitud (línea naranja) y la máxima (línea verde)"
      ]
    },
    {
      "cell_type": "code",
      "metadata": {
        "colab": {
          "base_uri": "https://localhost:8080/",
          "height": 351
        },
        "id": "ijUixvYvUMwx",
        "outputId": "6bf386fb-d47a-4d30-eb46-874b5c543f4e"
      },
      "source": [
        "print(\"Mejor individuo es: %s\\n%s\\ncon aptitud de : %s\" % (mejor[0],recorrido_nombres, mejor[0].fitness))\n",
        "    \n",
        "import matplotlib.pyplot as plt\n",
        "gen, avg, min_, max_ = estadisticas.select(\"gen\", \"avg\", \"min\", \"max\")\n",
        "plt.plot(gen, avg, label=\"average\")\n",
        "plt.plot(gen, min_, label=\"minimum\")\n",
        "plt.plot(gen, max_, label=\"maximum\")\n",
        "plt.xlabel(\"Generation\")\n",
        "plt.ylabel(\"Fitness\")\n",
        "plt.legend(loc=\"upper right\")\n",
        "\n",
        "\n",
        "plt.rcParams[\"figure.figsize\"] = (10,10)\n",
        "plt.show()\n"
      ],
      "execution_count": 15,
      "outputs": [
        {
          "output_type": "stream",
          "name": "stdout",
          "text": [
            "Mejor individuo es: Individual('i', [4, 25, 1, 2, 24, 17, 21, 3, 22, 30, 26, 5, 19, 29, 28, 18, 6, 31, 0, 23, 27, 12, 20, 10, 14, 16, 11, 15, 9, 13, 7, 8])\n",
            "['chihuahua', 'hermosillo', 'mexicalli', 'lapaz', 'culiacan', 'tepic', 'queretaro', 'campeche', 'chetumal', 'merida', 'villahermosa', 'tuxtlaGtz', 'oaxaca', 'xalapa', 'tlaxcala', 'monterrey', 'Saltillo', 'zacatecas', 'aguascalientes', 'Sanluis', 'cuidadvictoria', 'pachuca', 'puebla', 'chilpancingo', 'toluca', 'cuernavaca', 'cdmx', 'morelia', 'guanajuato', 'guadalajara', 'colima', 'victoriaDurango', 'chihuahua']\n",
            "con aptitud de : (102.16727663629261,)\n"
          ]
        },
        {
          "output_type": "display_data",
          "data": {
            "text/plain": [
              "<Figure size 432x288 with 1 Axes>"
            ],
            "image/png": "[encoded data removed]"
          },
          "metadata": {
            "needs_background": "light"
          }
        }
      ]
    }
  ]
}